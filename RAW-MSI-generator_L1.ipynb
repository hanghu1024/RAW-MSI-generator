{
 "cells": [
  {
   "cell_type": "code",
   "execution_count": 1,
   "metadata": {},
   "outputs": [
    {
     "name": "stdout",
     "output_type": "stream",
     "text": [
      "Finish modules, defs and variables import, next step: check the dimensionality of this MSI data set.\n"
     ]
    }
   ],
   "source": [
    "#===========================================\n",
    "# import modules, defs and variables\n",
    "#===========================================\n",
    "exec(open(\"./external.py\").read())\n",
    "exec(open(\"./defs.py\").read())\n",
    "exec(open(\"./config.py\").read())\n",
    "\n",
    "print('Finish modules, defs and variables import, next step: check the dimensionality of this MSI data set.')"
   ]
  },
  {
   "cell_type": "code",
   "execution_count": 2,
   "metadata": {},
   "outputs": [
    {
     "name": "stdout",
     "output_type": "stream",
     "text": [
      "Finish pixel raw data import\n"
     ]
    }
   ],
   "source": [
    "#===========================================\n",
    "# import data \n",
    "#===========================================\n",
    "df_pixels = pd.read_csv(InputDir, header = None) # use pandas, cause the print is interpretable\n",
    "if MassList_dir != 0: \n",
    "    df_MassList = pd.read_excel(MassList_dir, header = None)\n",
    "    MassList = df_MassList.values.astype(np.float64)\n",
    "\n",
    "print('Finish pixel raw data import')"
   ]
  },
  {
   "cell_type": "code",
   "execution_count": 3,
   "metadata": {},
   "outputs": [
    {
     "name": "stdout",
     "output_type": "stream",
     "text": [
      "Finish raw data processing\n"
     ]
    }
   ],
   "source": [
    "#===========================================\n",
    "# L1.0: data process\n",
    "#===========================================\n",
    "# data organization\n",
    "pixels = df_pixels.values.astype(np.float64)\n",
    "MassList = np.insert(MassList, 0, 0, axis = 0) # elements in np array should be same type, so 0 -> TIC\n",
    "\n",
    "# parse info\n",
    "NumLine = int(np.max(df_pixels[0]) + 1)\n",
    "NumSpePerLine = int(np.max(df_pixels[1]) + 1)\n",
    "\n",
    "# organize img (first 3 are indexes and TIC)\n",
    "img = pixels.T.reshape(pixels.shape[1], NumLine, NumSpePerLine)\n",
    "img_feature = np.delete(img, [0,1], axis=0)\n",
    "\n",
    "# parameter for plotting\n",
    "aspect = AspectRatio*NumSpePerLine/NumLine\n",
    "\n",
    "# make folders for outputs\n",
    "if ImageFolder == 0:\n",
    "    folder_name = 'images-' + str(Norm) + '-norm'\n",
    "    ImageFolder = locate_ImageFolder(InputDir, folder_name)\n",
    "\n",
    "os.mkdir(ImageFolder) # include 'norm' name into folder name\n",
    "os.mkdir(ImageFolder + '\\\\png files')\n",
    "\n",
    "# also save .csv files?\n",
    "if csv == 1:\n",
    "    os.mkdir(ImageFolder + '\\\\csv files')\n",
    "    \n",
    "print('Finish raw data processing')"
   ]
  },
  {
   "cell_type": "code",
   "execution_count": 4,
   "metadata": {},
   "outputs": [
    {
     "name": "stdout",
     "output_type": "stream",
     "text": [
      "Finish normalization, next step: exporting plots\n"
     ]
    }
   ],
   "source": [
    "#===========================================\n",
    "# L1.1: normalization \n",
    "#===========================================\n",
    "# work with img\n",
    "if type(Norm) == str:\n",
    "    if Norm == 'none':\n",
    "        img_feature_norm = img_feature.copy()\n",
    "    if Norm == 'TIC':\n",
    "        img_feature_norm = img_feature/img_feature[0]\n",
    "else:\n",
    "    std_index = np.where(MassList == Norm)\n",
    "    img_feature_norm = img_feature/img_feature[std_index]\n",
    "\n",
    "# flatten to get pixels\n",
    "pixels_feature_norm = img_feature_norm.reshape(img_feature_norm.shape[0], -1).T\n",
    "\n",
    "print('Finish normalization, next step: exporting plots')"
   ]
  },
  {
   "cell_type": "code",
   "execution_count": 5,
   "metadata": {
    "scrolled": false
   },
   "outputs": [],
   "source": [
    "#===========================================\n",
    "# L1.2: plotting\n",
    "#===========================================\n",
    "# visualization scale\n",
    "scale = round(NumLine*NumSpePerLine*VisuScale)\n",
    "\n",
    "for i in range(img_feature_norm.shape[0]):        \n",
    "    ### plot\n",
    "    vmax = pixels_feature_norm[:,i][np.argsort(pixels_feature_norm[:,i])[scale]]\n",
    "    plt.figure(figsize=[20,10])\n",
    "    plt.imshow(img_feature_norm[i], aspect = aspect, cmap=colormap, vmax = vmax)\n",
    "    \n",
    "    # title and save path\n",
    "    if MassList[i][0] == 0:\n",
    "        title = 'No.' + str(i) + '  ' + 'TIC'\n",
    "    else:\n",
    "        title = 'No.' + str(i) + '  ' + str(MassList[i][0])\n",
    "    SaveDir = ImageFolder + '\\\\png files\\\\' + title + '.png'\n",
    "    \n",
    "    # theme\n",
    "    if colorbar != 0: plt.colorbar()\n",
    "    if ticks == 0: plt.xticks([]), plt.yticks([])\n",
    "    \n",
    "    #plt.show()\n",
    "    plt.savefig(SaveDir)\n",
    "    plt.close()\n",
    "    \n",
    "    ### .csv save\n",
    "    df_img = pd.DataFrame(img_feature_norm[i])\n",
    "    SaveDir = ImageFolder + '\\\\csv files\\\\' + title + '.csv'\n",
    "    df_img.to_csv(SaveDir, index=False, header=False, sep=',')\n",
    "    \n",
    "    ### progressbar\n",
    "    if i != 0:\n",
    "        if i % 20 ==0:\n",
    "            print('Finish generating {}/{} ion images'.format(i, img_feature_norm.shape[0]))\n",
    "        if i % (img_feature_norm.shape[0]-1) ==0:\n",
    "            print('Finish L1.2 ion images export, next step: L1.3 show mosaic ion images')\n",
    "    \n",
    "    #break"
   ]
  },
  {
   "cell_type": "code",
   "execution_count": 12,
   "metadata": {},
   "outputs": [
    {
     "name": "stdout",
     "output_type": "stream",
     "text": [
      "Finish L1 image plotting, please check output results at: \n",
      "I:\\2020 work from home (5 data sets)\\Daisy muscle data\\images-TIC-norm_10\n"
     ]
    }
   ],
   "source": [
    "#===========================================\n",
    "# L1.3: plot ion image collection\n",
    "#===========================================\n",
    "# parameters:\n",
    "w_fig = 20 # default setting\n",
    "ncols = ncols\n",
    "nrows = math.ceil((img_feature_norm.shape[0])/ncols)\n",
    "h_fig = w_fig * nrows * (AspectRatio + 0.2) / ncols # 0.2 is the space for title parameters\n",
    "\n",
    "fig = plt.figure(figsize=(w_fig,h_fig))\n",
    "fig.subplots_adjust(hspace= -0.15, wspace=0.03)\n",
    "for i in range(img_feature_norm.shape[0]):          \n",
    "    vmax = pixels_feature_norm[:,i][np.argsort(pixels_feature_norm[:,i])[scale]]\n",
    "    ax = fig.add_subplot(nrows, ncols, i+1) # start from 1\n",
    "    ax.imshow(img_feature_norm[i], cmap=colormap, aspect = aspect, vmax = vmax)\n",
    "    ax.set_xticks([])\n",
    "    ax.set_yticks([])\n",
    "    \n",
    "    # title\n",
    "    if MassList[i][0] == 0:\n",
    "        title = str(i) + '_' + 'TIC'\n",
    "    else:\n",
    "        title = str(i) + '_' + str(MassList[i][0])        \n",
    "    ax.set_title(title, pad=3, fontsize = 7)\n",
    "\n",
    "#plt.show()    \n",
    "SaveDir = ImageFolder + '\\\\png files\\\\ion_image_mosaic.png'\n",
    "plt.savefig(SaveDir, dpi=dpi)\n",
    "plt.close()\n",
    "\n",
    "print('Finish L1 image plotting, please check output results at: \\n{}'.format(ImageFolder))"
   ]
  }
 ],
 "metadata": {
  "kernelspec": {
   "display_name": "Python 3",
   "language": "python",
   "name": "python3"
  },
  "language_info": {
   "codemirror_mode": {
    "name": "ipython",
    "version": 3
   },
   "file_extension": ".py",
   "mimetype": "text/x-python",
   "name": "python",
   "nbconvert_exporter": "python",
   "pygments_lexer": "ipython3",
   "version": "3.7.3"
  }
 },
 "nbformat": 4,
 "nbformat_minor": 4
}
